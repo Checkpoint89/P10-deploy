{
 "metadata": {
  "language_info": {
   "codemirror_mode": {
    "name": "ipython",
    "version": 3
   },
   "file_extension": ".py",
   "mimetype": "text/x-python",
   "name": "python",
   "nbconvert_exporter": "python",
   "pygments_lexer": "ipython3",
   "version": "3.7.9"
  },
  "orig_nbformat": 2,
  "kernelspec": {
   "name": "python3",
   "display_name": "Python 3.7.9 64-bit ('P10': conda)"
  },
  "interpreter": {
   "hash": "df884c418cb4b9d2d3906784ffcf098a37b1dcb3e5a9cb9938c314655fab73d3"
  }
 },
 "nbformat": 4,
 "nbformat_minor": 2,
 "cells": [
  {
   "source": [
    "# Formattage des données dans le format approprié à être consommé par LUIS"
   ],
   "cell_type": "markdown",
   "metadata": {}
  },
  {
   "source": [
    "## Imports"
   ],
   "cell_type": "markdown",
   "metadata": {}
  },
  {
   "cell_type": "code",
   "execution_count": 1,
   "metadata": {},
   "outputs": [],
   "source": [
    "# Import des librairies\n",
    "import json\n",
    "import pandas as pd"
   ]
  },
  {
   "cell_type": "code",
   "execution_count": 2,
   "metadata": {},
   "outputs": [],
   "source": [
    "# Import des données\n",
    "data_path = r\"D:\\Data\\Google Drive\\Openclassrooms\\P10\\data\\frames.json\"\n",
    "df = pd.read_json(data_path)"
   ]
  },
  {
   "source": [
    "## Analyse exploratoire des données"
   ],
   "cell_type": "markdown",
   "metadata": {}
  },
  {
   "source": [
    "**Exemples d'enregistrements du fichier de données**"
   ],
   "cell_type": "markdown",
   "metadata": {}
  },
  {
   "cell_type": "code",
   "execution_count": 3,
   "metadata": {},
   "outputs": [
    {
     "output_type": "execute_result",
     "data": {
      "text/plain": [
       "     user_id                                              turns  wizard_id  \\\n",
       "0  U22HTHYNP  [{'text': 'I'd like to book a trip to Atlantis...  U21DKG18C   \n",
       "1  U21E41CQP  [{'text': 'Hello, I am looking to book a vacat...  U21DMV0KA   \n",
       "2  U21RP4FCY  [{'text': 'Hello there i am looking to go on a...  U21E0179B   \n",
       "3  U22HTHYNP  [{'text': 'Hi I'd like to go to Caprica from B...  U21DKG18C   \n",
       "4  U21E41CQP  [{'text': 'Hello, I am looking to book a trip ...  U21DMV0KA   \n",
       "\n",
       "                                     id  \\\n",
       "0  e2c0fc6c-2134-4891-8353-ef16d8412c9a   \n",
       "1  4a3bfa39-2c22-42c8-8694-32b4e34415e9   \n",
       "2  6e67ed28-e94c-4fab-96b6-68569a92682f   \n",
       "3  5ae76e50-5b48-4166-9f6d-67aaabd7bcaa   \n",
       "4  24603086-bb53-431e-a0d8-1dcc63518ba9   \n",
       "\n",
       "                                              labels  \n",
       "0  {'userSurveyRating': 4.0, 'wizardSurveyTaskSuc...  \n",
       "1  {'userSurveyRating': 3.0, 'wizardSurveyTaskSuc...  \n",
       "2  {'userSurveyRating': 2.0, 'wizardSurveyTaskSuc...  \n",
       "3  {'userSurveyRating': 5.0, 'wizardSurveyTaskSuc...  \n",
       "4  {'userSurveyRating': 5.0, 'wizardSurveyTaskSuc...  "
      ],
      "text/html": "<div>\n<style scoped>\n    .dataframe tbody tr th:only-of-type {\n        vertical-align: middle;\n    }\n\n    .dataframe tbody tr th {\n        vertical-align: top;\n    }\n\n    .dataframe thead th {\n        text-align: right;\n    }\n</style>\n<table border=\"1\" class=\"dataframe\">\n  <thead>\n    <tr style=\"text-align: right;\">\n      <th></th>\n      <th>user_id</th>\n      <th>turns</th>\n      <th>wizard_id</th>\n      <th>id</th>\n      <th>labels</th>\n    </tr>\n  </thead>\n  <tbody>\n    <tr>\n      <th>0</th>\n      <td>U22HTHYNP</td>\n      <td>[{'text': 'I'd like to book a trip to Atlantis...</td>\n      <td>U21DKG18C</td>\n      <td>e2c0fc6c-2134-4891-8353-ef16d8412c9a</td>\n      <td>{'userSurveyRating': 4.0, 'wizardSurveyTaskSuc...</td>\n    </tr>\n    <tr>\n      <th>1</th>\n      <td>U21E41CQP</td>\n      <td>[{'text': 'Hello, I am looking to book a vacat...</td>\n      <td>U21DMV0KA</td>\n      <td>4a3bfa39-2c22-42c8-8694-32b4e34415e9</td>\n      <td>{'userSurveyRating': 3.0, 'wizardSurveyTaskSuc...</td>\n    </tr>\n    <tr>\n      <th>2</th>\n      <td>U21RP4FCY</td>\n      <td>[{'text': 'Hello there i am looking to go on a...</td>\n      <td>U21E0179B</td>\n      <td>6e67ed28-e94c-4fab-96b6-68569a92682f</td>\n      <td>{'userSurveyRating': 2.0, 'wizardSurveyTaskSuc...</td>\n    </tr>\n    <tr>\n      <th>3</th>\n      <td>U22HTHYNP</td>\n      <td>[{'text': 'Hi I'd like to go to Caprica from B...</td>\n      <td>U21DKG18C</td>\n      <td>5ae76e50-5b48-4166-9f6d-67aaabd7bcaa</td>\n      <td>{'userSurveyRating': 5.0, 'wizardSurveyTaskSuc...</td>\n    </tr>\n    <tr>\n      <th>4</th>\n      <td>U21E41CQP</td>\n      <td>[{'text': 'Hello, I am looking to book a trip ...</td>\n      <td>U21DMV0KA</td>\n      <td>24603086-bb53-431e-a0d8-1dcc63518ba9</td>\n      <td>{'userSurveyRating': 5.0, 'wizardSurveyTaskSuc...</td>\n    </tr>\n  </tbody>\n</table>\n</div>"
     },
     "metadata": {},
     "execution_count": 3
    }
   ],
   "source": [
    "df.head()"
   ]
  },
  {
   "source": [
    "**Exploration de la structure des conversations (colonne 'turns')**"
   ],
   "cell_type": "markdown",
   "metadata": {}
  },
  {
   "cell_type": "code",
   "execution_count": 4,
   "metadata": {},
   "outputs": [
    {
     "output_type": "stream",
     "name": "stdout",
     "text": [
      "utterance keys => {'timestamp', 'db', 'author', 'text', 'labels'}\n\nlabels keys => {'acts_without_refs', 'frames', 'acts', 'active_frame'}\n\nacts keys => {'name', 'args'}\n\nacts names => {'negate', 'thankyou', 'request_alts', 'switch_frame', 'inform', 'request_compare', 'request', 'confirm', 'goodbye', 'greeting', 'moreinfo', 'affirm'}\n\nargs keys => {'ref_anaphora', 'gst_rating', 'market', 'shopping', 'max_duration', 'budget_ok', 'price', 'university', 'cathedral', 'gym', 'action', 'n_children', 'ref', 'downtown', 'count_seat', 'dep_time_dst', 'str_date', 'parking', 'beach', 'arr_time_dst', 'n_adults_ok', 'wifi', 'dst_city', 'category', 'flex', 'name', 'dep_time_or', 'duration', 'end_date', 'seat_ok', 'n_adults', 'count_dst_city', 'airport', 'seat', 'intent_ok', 'museum', 'mall', 'vicinity', 'park', 'impl_anaphora', 'count', 'min_duration', 'breakfast', 'palace', 'spa', 'or_city', 'budget', 'count_name', 'arr_time_or', 'intent', 'amenities'}\n\nintent values => {'book'}\n"
     ]
    }
   ],
   "source": [
    "# Structure du fichier json\n",
    "utterance_keys = set()\n",
    "labels_keys = set()\n",
    "acts_keys = set()\n",
    "acts_names = set()\n",
    "args_keys = set()\n",
    "args_vals = set()\n",
    "intent_vals = set()\n",
    "\n",
    "for dialog in df['turns'].to_list():\n",
    "    for utterance in dialog:\n",
    "        for key in list(utterance.keys()):\n",
    "            utterance_keys.add(key)\n",
    "        if utterance['author'] == 'user':\n",
    "            for key in list(utterance['labels'].keys()):\n",
    "                labels_keys.add(key)\n",
    "            for acts in utterance['labels']['acts']:\n",
    "                for key in list(acts.keys()):\n",
    "                    acts_keys.add(key)\n",
    "                acts_names.add(acts['name'])\n",
    "                for args in acts['args']:\n",
    "                    args_keys.add(args['key'])\n",
    "                    if args['key'] == 'intent':\n",
    "                        intent_vals.add(args['val'])\n",
    "                    try:\n",
    "                        args_vals.add(args['val'])\n",
    "                    except:\n",
    "                        pass\n",
    "\n",
    "print(f\"utterance keys => {utterance_keys}\")\n",
    "print(f\"\\nlabels keys => {labels_keys}\")\n",
    "print(f\"\\nacts keys => {acts_keys}\")\n",
    "print(f\"\\nacts names => {acts_names}\")\n",
    "print(f\"\\nargs keys => {args_keys}\")\n",
    "# print(f\"\\nargs values => {args_vals}\")\n",
    "print(f\"\\nintent values => {intent_vals}\")"
   ]
  },
  {
   "source": [
    "df['turns'][0][6]"
   ],
   "cell_type": "code",
   "metadata": {},
   "execution_count": 5,
   "outputs": [
    {
     "output_type": "execute_result",
     "data": {
      "text/plain": [
       "{'text': \"I suppose I'll speak with my husband to see if we can choose other dates, and then I'll come back to you.Thanks for your help\",\n",
       " 'labels': {'acts': [{'args': [], 'name': 'thankyou'}],\n",
       "  'acts_without_refs': [{'args': [], 'name': 'thankyou'}],\n",
       "  'active_frame': 3,\n",
       "  'frames': [{'info': {'intent': [{'val': 'book', 'negated': False}],\n",
       "     'budget': [{'val': '1700.0', 'negated': False}],\n",
       "     'dst_city': [{'val': 'Atlantis', 'negated': False}],\n",
       "     'or_city': [{'val': 'Caprica', 'negated': True}],\n",
       "     'str_date': [{'val': 'august 13', 'negated': False}],\n",
       "     'n_adults': [{'val': '8', 'negated': False}]},\n",
       "    'frame_id': 1,\n",
       "    'requests': [],\n",
       "    'frame_parent_id': None,\n",
       "    'binary_questions': [],\n",
       "    'compare_requests': []},\n",
       "   {'info': {'intent': [{'val': 'book', 'negated': False}],\n",
       "     'budget': [{'val': '1900.0', 'negated': False}],\n",
       "     'dst_city': [{'val': 'Neverland', 'negated': False}],\n",
       "     'or_city': [{'val': 'Caprica', 'negated': False}],\n",
       "     'str_date': [{'val': 'august 13', 'negated': False}],\n",
       "     'n_adults': [{'val': '5', 'negated': False}],\n",
       "     'NO_RESULT': [{'val': True, 'negated': False}]},\n",
       "    'frame_id': 2,\n",
       "    'requests': [],\n",
       "    'frame_parent_id': 1,\n",
       "    'binary_questions': [],\n",
       "    'compare_requests': []},\n",
       "   {'info': {'intent': [{'val': 'book', 'negated': False}],\n",
       "     'budget': [{'val': '1700.0', 'negated': False}],\n",
       "     'flex': [{'val': False, 'negated': False}],\n",
       "     'dst_city': [{'val': 'Atlantis', 'negated': False}],\n",
       "     'or_city': [{'val': 'Atlantis', 'negated': False}],\n",
       "     'str_date': [{'val': 'august 13', 'negated': False}],\n",
       "     'n_adults': [{'val': '8', 'negated': False}],\n",
       "     'NO_RESULT': [{'val': True, 'negated': False}]},\n",
       "    'frame_id': 3,\n",
       "    'requests': [],\n",
       "    'frame_parent_id': 1,\n",
       "    'binary_questions': [],\n",
       "    'compare_requests': []}]},\n",
       " 'author': 'user',\n",
       " 'timestamp': 1471273458251}"
      ]
     },
     "metadata": {},
     "execution_count": 5
    }
   ]
  },
  {
   "source": [
    "**Extraction des dialogues de meilleure qualité**"
   ],
   "cell_type": "markdown",
   "metadata": {}
  },
  {
   "cell_type": "code",
   "execution_count": 6,
   "metadata": {},
   "outputs": [
    {
     "output_type": "stream",
     "name": "stdout",
     "text": [
      "1 25\n2 28\n3 83\n4 215\n5 982\n"
     ]
    }
   ],
   "source": [
    "# Nombre de dialogues en fonction de leur rating\n",
    "user_ratings = [df['labels'][i]['userSurveyRating'] for i in range(len(df))]\n",
    "df['user_rating'] = user_ratings\n",
    "for i in range(1,6):\n",
    "    print(i, len(df[df['user_rating'] == i]))"
   ]
  },
  {
   "cell_type": "code",
   "execution_count": 7,
   "metadata": {},
   "outputs": [],
   "source": [
    "# Filtrer les dialogues ayant un rating de 5\n",
    "df5 = df[df['user_rating'] == 5]\n",
    "df5 = df5.reset_index(drop=True)"
   ]
  },
  {
   "source": [
    "**Exemple de dialogue**"
   ],
   "cell_type": "markdown",
   "metadata": {}
  },
  {
   "cell_type": "code",
   "execution_count": 8,
   "metadata": {},
   "outputs": [
    {
     "output_type": "stream",
     "name": "stdout",
     "text": [
      "0, [  user]: Hello, I am looking to book a trip for 2 adults and 6 children for $21,300 or less. We are departing from Kochi for Denver.\n{'inform', 'greeting'}\n{'dst_city', 'n_adults', 'budget', 'or_city', 'n_children', 'intent'}\n1, [wizard]: I have several options available within your budget. How long would you like to travel for? And do you have dates in mind?\n{'request', 'inform'}\n{'duration', 'end_date', 'str_date', 'count'}\n2, [  user]: I do not have any dates in mind. I would like to spend as much time in Denver as my budget will allow.\n{'inform'}\n{'end_date', 'str_date', 'ref', 'max_duration'}\n3, [wizard]: I can book 7 days at a 4.0 star hotel for 19028.93USD. I can also book 7 days at a 3.0 star hotel for 12824.84USD.\n{'offer'}\n{'duration', 'id', 'price', 'category'}\n4, [  user]: Do these packages have different departure dates? When would I be leaving for each of them?\n{'request_compare'}\n{'ref', 'str_date'}\n5, [wizard]: The 3.0 star trip leaves Kochi August 26 and returns August 31. The 4.0 star leaves August 27 from Kochi and returns September 1.\n{'inform'}\n{'or_city', 'str_date', 'end_date', 'write'}\n6, [  user]: Ok, I would like to purchase the trip with the 4-star hotel.\n{'switch_frame', 'inform'}\n{'ref', 'intent'}\n7, [wizard]: Perfect, I will book that trip for you now. You will depart Kochi at 9:00 am August 27. Have a nice day.\n{'inform'}\n{'or_city', 'write', 'dep_time_or', 'action'}\n8, [  user]: Thank you\n{'thankyou'}\nset()\n"
     ]
    }
   ],
   "source": [
    "# Imprimer un dialogue\n",
    "i = 1\n",
    "conv = df5.loc[i]['turns']\n",
    "for i in range(len(conv)):\n",
    "    print(f\"{i}, [{conv[i]['author']:>6}]: {conv[i]['text']}\")\n",
    "    acts_names = set()\n",
    "    args_keys = set()\n",
    "    for act in conv[i]['labels']['acts']:\n",
    "        acts_names.add(act['name'])\n",
    "        for arg in act['args']:\n",
    "            args_keys.add(arg['key'])\n",
    "    print(f\"{acts_names}\")\n",
    "    print(f\"{args_keys}\")"
   ]
  },
  {
   "source": [
    "## Définition d'une classe d'exemples de phrases labellisées compatibles avec le format LUIS \n",
    "La classe permet d'extraire du dataset initial des exemples particuliers en les formattant pour LUIS.  \n",
    "\n",
    "Par exemple, le code suivant:  \n",
    " \n",
    "   entities_set = {'or_city', 'str_date', 'dst_city', 'end_date', 'budget'}  \n",
    "   examples.select_train_utterances(10, 'inform', entities_set)  \n",
    "   entities_set = {'or_city', 'dst_city'}  \n",
    "   examples.select_train_utterances(10, 'inform', entities_set)  \n",
    "   examples.update_test_utterances(30)   \n",
    "\n",
    "va extraire 10 exemples avec toutes les entités 'or_city', 'str_date', 'dst_city', 'end_date', 'budget'  \n",
    "puis extrait 10 exemples supplémentaires avec les entités 'or_city', 'dst_city'  \n",
    "puis extrait 30 exemples de chaque cas pour les tests"
   ],
   "cell_type": "markdown",
   "metadata": {}
  },
  {
   "cell_type": "code",
   "execution_count": 9,
   "metadata": {},
   "outputs": [],
   "source": [
    "# Définition de la classe\n",
    "class UtteranceExamples():\n",
    "\n",
    "    def __init__(self, df):\n",
    "\n",
    "        self.utterances_df = df\n",
    "\n",
    "        self.text_key = {'train': 'text', 'test': 'text'}\n",
    "        self.intent_key = {'train': 'intent_name', 'test': 'intent'}\n",
    "        self.entities_key = {'train': 'entity_labels', 'test': 'entities'}\n",
    "        self.entity_name_key = {'train': 'entity_name', 'test': 'entity'}\n",
    "        self.start_char_key = {'train': 'start_char_index', 'test': 'startPos'}\n",
    "        self.end_char_key = {'train': 'end_char_index', 'test': 'endPos'}\n",
    "        self.entity_keys_key = {'train': 'entity_keys', 'test': 'entity_keys'}\n",
    "\n",
    "        self.all_acts = {\n",
    "            'request_alts','confirm', 'goodbye', 'greeting', 'thankyou', 'request_compare','negate','request', 'switch_frame', 'affirm', 'moreinfo', 'inform',\n",
    "            }\n",
    "        self.my_acts = set()\n",
    "\n",
    "        self. all_entities = {'gst_rating', 'price', 'seat', 'breakfast', 'airport', 'gym', 'university', 'park', 'shopping', 'intent_ok', 'spa', 'vicinity', 'beach', 'name', 'max_duration', 'budget_ok', 'flex', 'mall', 'min_duration', 'parking', 'dep_time_or', 'ref', 'budget', 'palace', 'count_seat', 'impl_anaphora', 'count', 'str_date', 'n_adults_ok', 'end_date', 'n_adults', 'wifi', 'arr_time_dst', 'category', 'count_name', 'action', 'market', 'n_children', 'ref_anaphora', 'cathedral', 'seat_ok', 'amenities', 'museum', 'downtown', 'duration', 'dep_time_dst', 'intent', 'arr_time_or', 'count_dst_city', 'or_city', 'dst_city'}\n",
    "        self.my_entities = set()\n",
    "\n",
    "        self.utterances_train_format = []\n",
    "        self.utterances_test_format = []\n",
    "        self.utterances_without_keys_train_format = []\n",
    "        self.utterances_without_keys_test_format = []\n",
    "        self.train_utterances = []\n",
    "        self.train_utterances_idx = []\n",
    "        self.train_params = []\n",
    "        self.test_utterances = []\n",
    "\n",
    "    def set_acts(self,acts):\n",
    "            for act in acts:\n",
    "                assert act in self.all_acts\n",
    "            self.my_acts = acts\n",
    "\n",
    "    def set_entities(self,entities):\n",
    "        for entity in entities:\n",
    "            assert entity in self.all_entities\n",
    "        self.my_entities = entities\n",
    "\n",
    "\n",
    "    def format_utterances(self, type):\n",
    "        df = self.utterances_df\n",
    "        \n",
    "        for dialog_n in range(len(df)):\n",
    "\n",
    "            dialog = df['turns'][dialog_n]\n",
    "\n",
    "            for i in range(len(dialog)):\n",
    "                if dialog[i]['author'] == 'user':\n",
    "\n",
    "                    text = dialog[i]['text']\n",
    "                    acts = dialog[i]['labels']['acts']\n",
    "\n",
    "                    entities = []\n",
    "                    entity_keys = set()\n",
    "\n",
    "                    for act in acts:\n",
    "                        if act['name'] in self.my_acts:\n",
    "                            intent = act['name']\n",
    "                        else:\n",
    "                            intent = \"None\"\n",
    "                        try:\n",
    "                            for arg in act['args']:\n",
    "                                if arg['key'] in self.my_entities:\n",
    "                                    if text.find(arg['val']) != -1:\n",
    "                                        start = text.find(arg['val'])\n",
    "                                        end = text.find(arg['val']) + len(arg['val'])\n",
    "                                        entities.append({self.entity_name_key[type]: arg['key'],\n",
    "                                                        self.start_char_key[type]: start,\n",
    "                                                        self.end_char_key[type]: end})\n",
    "                                        entity_keys.add(arg['key'])\n",
    "                        except:\n",
    "                            pass\n",
    "\n",
    "                    if type == 'train':\n",
    "                        self.utterances_train_format.append({\n",
    "                            self.text_key[type]:text, \n",
    "                            self.intent_key[type]:intent,\n",
    "                            self.entities_key[type]:entities,\n",
    "                            self.entity_keys_key[type]:entity_keys})\n",
    "\n",
    "                        self.utterances_without_keys_train_format.append({\n",
    "                            self.text_key[type]:text, \n",
    "                            self.intent_key[type]:intent,\n",
    "                            self.entities_key[type]:entities})\n",
    "\n",
    "                    if type == 'test':\n",
    "                        self.utterances_test_format.append({\n",
    "                            self.text_key[type]:text, \n",
    "                            self.intent_key[type]:intent,\n",
    "                            self.entities_key[type]:entities,\n",
    "                            self.entity_keys_key[type]:entity_keys})\n",
    "\n",
    "                        self.utterances_without_keys_test_format.append({\n",
    "                            self.text_key[type]:text, \n",
    "                            self.intent_key[type]:intent,\n",
    "                            self.entities_key[type]:entities})\n",
    "\n",
    "    def select_train_utterances(self, n, intent, entities_set):\n",
    "        if (intent,entities_set) not in self.train_params:\n",
    "            self.train_params.append((intent, entities_set))\n",
    "        utterances_df = pd.DataFrame(self.utterances_train_format)\n",
    "        idx_intent = utterances_df[self.intent_key['train']] == intent\n",
    "        idx_entity = utterances_df[self.entity_keys_key['train']] == entities_set\n",
    "        idx = idx_entity & idx_intent\n",
    "        idx_ = idx[idx].index.to_list()\n",
    "        if intent == 'None':\n",
    "            nones_len = int(len(self.train_utterances) * 0.1)\n",
    "            length = min(nones_len, len(idx_))\n",
    "        else:\n",
    "            length = min(n,len(idx_))\n",
    "        self.train_utterances.extend([self.utterances_without_keys_train_format[i] for i in idx_[0:length]])\n",
    "        self.train_utterances_idx.extend(idx_[0:length])\n",
    "\n",
    "    def update_test_utterances(self, n):\n",
    "        test_idx = [i for i in range(len(self.utterances_train_format)) if i not in self.train_utterances_idx]\n",
    "        utterances_df = pd.DataFrame(self.utterances_test_format)\n",
    "        utterances_df = utterances_df.loc[test_idx]\n",
    "        for (intent, entities_set) in self.train_params:\n",
    "            idx_intent = utterances_df[self.intent_key['test']] == intent\n",
    "            idx_entity = utterances_df[self.entity_keys_key['test']] == entities_set\n",
    "            idx = idx_entity & idx_intent\n",
    "            idx_ = idx[idx].index.to_list()\n",
    "            if intent == 'None':\n",
    "                nones_len = int(len(self.train_utterances) * 0.1)\n",
    "                length = min(nones_len, len(idx_))\n",
    "            else:\n",
    "                length = min(n,len(idx_))\n",
    "            self.test_utterances.extend([self.utterances_without_keys_test_format[i] for i in idx_[0:length]])\n"
   ]
  },
  {
   "cell_type": "code",
   "execution_count": 11,
   "metadata": {},
   "outputs": [],
   "source": [
    "# Production des exemples d'entrainement et de test\n",
    "examples = UtteranceExamples(df5)\n",
    "examples.set_acts({'inform'})\n",
    "examples.set_entities({'or_city', 'str_date', 'dst_city', 'end_date', 'budget'})\n",
    "examples.format_utterances('train')\n",
    "examples.format_utterances('test')\n",
    "\n",
    "entities_set = {'or_city', 'str_date', 'dst_city', 'end_date', 'budget'}\n",
    "examples.select_train_utterances(10, 'inform', entities_set)\n",
    "\n",
    "entities_set = {'or_city', 'str_date', 'dst_city', 'end_date'}\n",
    "examples.select_train_utterances(10, 'inform', entities_set)\n",
    "\n",
    "entities_set = {'or_city', 'str_date', 'dst_city'}\n",
    "examples.select_train_utterances(10, 'inform', entities_set)\n",
    "\n",
    "entities_set = {'or_city', 'dst_city'}\n",
    "examples.select_train_utterances(10, 'inform', entities_set)\n",
    "\n",
    "entities_set = set()\n",
    "examples.select_train_utterances(10, 'inform', entities_set)\n",
    "\n",
    "entities_set = set()\n",
    "examples.select_train_utterances(10, 'None', entities_set)\n",
    "\n",
    "examples.update_test_utterances(30)\n",
    "\n",
    "with open('./data/train_utterances.json', 'w') as f:\n",
    "    json.dump(examples.train_utterances, f)\n",
    "\n",
    "with open('./data/test_utterances.json', 'w') as f:\n",
    "    json.dump(examples.test_utterances, f)"
   ]
  },
  {
   "cell_type": "code",
   "execution_count": null,
   "metadata": {},
   "outputs": [],
   "source": []
  }
 ]
}