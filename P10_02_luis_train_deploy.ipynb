{
 "metadata": {
  "language_info": {
   "codemirror_mode": {
    "name": "ipython",
    "version": 3
   },
   "file_extension": ".py",
   "mimetype": "text/x-python",
   "name": "python",
   "nbconvert_exporter": "python",
   "pygments_lexer": "ipython3",
   "version": "3.7.9"
  },
  "orig_nbformat": 4,
  "kernelspec": {
   "name": "python3",
   "display_name": "Python 3.7.9 64-bit ('P10': conda)"
  },
  "interpreter": {
   "hash": "df884c418cb4b9d2d3906784ffcf098a37b1dcb3e5a9cb9938c314655fab73d3"
  }
 },
 "nbformat": 4,
 "nbformat_minor": 2,
 "cells": [
  {
   "source": [
    "# Fonction d'entrainement et de deploiement d'un modèle LUIS"
   ],
   "cell_type": "markdown",
   "metadata": {}
  },
  {
   "cell_type": "code",
   "execution_count": null,
   "metadata": {},
   "outputs": [],
   "source": [
    "from azure.cognitiveservices.language.luis.authoring import LUISAuthoringClient\n",
    "from azure.cognitiveservices.language.luis.authoring.models import ApplicationCreateObject\n",
    "from azure.cognitiveservices.language.luis.runtime import LUISRuntimeClient\n",
    "from msrest.authentication import CognitiveServicesCredentials\n",
    "from functools import reduce\n",
    "\n",
    "import json, time, uuid\n",
    "\n",
    "import credentials"
   ]
  },
  {
   "cell_type": "code",
   "execution_count": null,
   "metadata": {},
   "outputs": [],
   "source": [
    "with open('./data/train_utterances.json', 'r') as f:\n",
    "    utterances = json.load(f)"
   ]
  },
  {
   "cell_type": "code",
   "execution_count": null,
   "metadata": {},
   "outputs": [],
   "source": [
    "def booking_app(subscription_key):\n",
    "\n",
    "    authoringKey = credentials.AUTHORING_KEY\n",
    "    authoringEndpoint = credentials.AUTHORING_ENDPOINT\n",
    "    predictionKey = credentials.PREDICTION_KEY\n",
    "    predictionEndpoint = credentials.PREDICTION_KEY\n",
    "\n",
    "    # We use a UUID to avoid name collisions.\n",
    "    appName = \"FlightBooking \" + str(uuid.uuid4())\n",
    "    version_id = \"0.1\"\n",
    "\n",
    "    client = LUISAuthoringClient(authoringEndpoint, CognitiveServicesCredentials(authoringKey))\n",
    "\n",
    "    # Define app basics\n",
    "    appDefinition = ApplicationCreateObject (name=appName, initial_version_id=version_id, culture='en-us')\n",
    "\n",
    "    # Create app\n",
    "    app_id = client.apps.add(appDefinition)\n",
    "\n",
    "    # Get app id - necessary for all other changes\n",
    "    print(\"Created LUIS app with ID {}\".format(app_id))\n",
    "\n",
    "    # Add intent\n",
    "    print(\"Adding intent\")\n",
    "    intents = ['inform',]\n",
    "    for intentName in intents:\n",
    "        client.model.add_intent(app_id, version_id, intentName)\n",
    "\n",
    "    # Add prebuilt entity\n",
    "    print(\"Adding prebuilt entities\")\n",
    "    client.model.add_prebuilt(app_id, version_id, prebuilt_extractor_names=[\"number\"])\n",
    "    client.model.add_prebuilt(app_id, version_id, prebuilt_extractor_names=[\"geographyV2\"])\n",
    "    client.model.add_prebuilt(app_id, version_id, prebuilt_extractor_names=[\"datetimeV2\"])\n",
    "\n",
    "\n",
    "    # Add entity to app\n",
    "    print(\"Adding ML entities\")\n",
    "    ml_entities = [\"or_city\", \"dst_city\",\"str_date\",\"end_date\", \"budget\"]\n",
    "    entity_ids = {}\n",
    "    for entity in ml_entities:\n",
    "        entity_ids[entity] = client.model.add_entity(app_id, version_id, name=entity)\n",
    "\n",
    "    # Add utterance examples\n",
    "    print(\"Adding utterances\")\n",
    "    for i in range(len(utterances)):\n",
    "        client.examples.add(app_id, version_id, utterances[i])\n",
    "\n",
    "    # Train the app\n",
    "    print(\"Training the app\")\n",
    "    async_training = client.train.train_version(app_id, version_id)\n",
    "    is_trained = async_training.status == \"UpToDate\"\n",
    "    trained_status = [\"UpToDate\", \"Success\"]\n",
    "    while not is_trained:\n",
    "        time.sleep(1)\n",
    "        status = client.train.get_status(app_id, version_id)\n",
    "        is_trained = all(m.details.status in trained_status for m in status)\n",
    "\n",
    "    # Publish the app\n",
    "    print(\"Publishing the app\")\n",
    "\n",
    "    publish_result = client.apps.publish(app_id,\n",
    "                     version_id=version_id,\n",
    "                     is_staging=False,\n",
    "                     region='westeurope')\n",
    "\n",
    "    endpoint = publish_result.endpoint_url + \\\n",
    "        \"?subscription-key=\" + subscription_key + \"&q=\"\n",
    "\n",
    "    print(\"Your app is published. You can now go to test it on\\n{}\".format(endpoint))\n",
    "\n",
    "    return(app_id, version_id, client, entity_ids, endpoint)\n",
    "\n",
    "app_id, version_id, client, entity_ids, endpoint = booking_app(credentials.SUBSCRIPTION_KEY)"
   ]
  },
  {
   "source": [],
   "cell_type": "markdown",
   "metadata": {}
  }
 ]
}